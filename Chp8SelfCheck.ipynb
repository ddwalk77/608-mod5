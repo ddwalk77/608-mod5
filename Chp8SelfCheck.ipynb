{
 "cells": [
  {
   "cell_type": "markdown",
   "id": "28306c26-0ad7-47b6-9fee-ac32b0f4d0ec",
   "metadata": {},
   "source": [
    "8.2.1 Self Check DeeDee Walker"
   ]
  },
  {
   "cell_type": "code",
   "execution_count": 1,
   "id": "1bcdb8dd-9432-4101-b6bf-4a5a065fdbf8",
   "metadata": {},
   "outputs": [
    {
     "data": {
      "text/plain": [
       "':-)'"
      ]
     },
     "execution_count": 1,
     "metadata": {},
     "output_type": "execute_result"
    }
   ],
   "source": [
    "f'{58:c}{45:c}{41:c}'"
   ]
  },
  {
   "cell_type": "markdown",
   "id": "7abf058b-9d7a-4741-a6cd-3e56d31e19cb",
   "metadata": {},
   "source": [
    "8.2.2 Self Check DeeDee Walker"
   ]
  },
  {
   "cell_type": "code",
   "execution_count": 2,
   "id": "034caaa5-1608-45a7-93b9-fef8c29cf2d6",
   "metadata": {},
   "outputs": [
    {
     "data": {
      "text/plain": [
       "'[  Amanda  ][    Amanda][Amanda    ]'"
      ]
     },
     "execution_count": 2,
     "metadata": {},
     "output_type": "execute_result"
    }
   ],
   "source": [
    "f'[{\"Amanda\":^10}]' f'[{\"Amanda\":>10}]' f'[{\"Amanda\":<10}]'"
   ]
  },
  {
   "cell_type": "code",
   "execution_count": 3,
   "id": "2b23cad1-74df-4571-80b1-ef591fe2d999",
   "metadata": {},
   "outputs": [
    {
     "name": "stdout",
     "output_type": "stream",
     "text": [
      "[  Amanda  ]\n",
      "[    Amanda]\n",
      " [Amanda    ]\n"
     ]
    }
   ],
   "source": [
    "print(f'[{\"Amanda\":^10}]\\n[{\"Amanda\":>10}]\\n [{\"Amanda\":<10}]')"
   ]
  },
  {
   "cell_type": "markdown",
   "id": "a177e5b3-6a12-451f-b021-8f359c41354d",
   "metadata": {},
   "source": [
    "8.2.3 Self Check DeeDee Walker "
   ]
  },
  {
   "cell_type": "code",
   "execution_count": 4,
   "id": "4bf677a9-7976-498a-9378-681dbfb64b60",
   "metadata": {},
   "outputs": [
    {
     "name": "stdout",
     "output_type": "stream",
     "text": [
      "+10,240.47\n",
      " -3,210.95\n"
     ]
    }
   ],
   "source": [
    "print(f'{10240.473:+10,.2f}\\n{-3210.9521:10,.2f}')"
   ]
  },
  {
   "cell_type": "markdown",
   "id": "6532e927-79e9-4a0e-a206-3719318a48f3",
   "metadata": {},
   "source": [
    "8.2.4 Self Check DeeDee Walker"
   ]
  },
  {
   "cell_type": "code",
   "execution_count": 5,
   "id": "9a899855-e354-4072-895f-bc8dd2445e94",
   "metadata": {},
   "outputs": [
    {
     "data": {
      "text/plain": [
       "':-)'"
      ]
     },
     "execution_count": 5,
     "metadata": {},
     "output_type": "execute_result"
    }
   ],
   "source": [
    "'{:c}{:c}{:c}'.format(58,45,41)"
   ]
  },
  {
   "cell_type": "code",
   "execution_count": 6,
   "id": "e548087c-1326-4ff7-8bb6-66e508aaccab",
   "metadata": {},
   "outputs": [
    {
     "name": "stdout",
     "output_type": "stream",
     "text": [
      "[  Amanda  ]\n",
      "[    Amanda]\n",
      "[Amanda    ]\n"
     ]
    }
   ],
   "source": [
    "print('[{0:^10}]\\n[{0:>10}]\\n[{0:<10}]'.format('Amanda'))"
   ]
  },
  {
   "cell_type": "code",
   "execution_count": 7,
   "id": "072431c2-405b-4e20-9c09-ce4b58a91c5a",
   "metadata": {},
   "outputs": [
    {
     "name": "stdout",
     "output_type": "stream",
     "text": [
      "+10,240.47\n",
      " -3,210.95\n"
     ]
    }
   ],
   "source": [
    "print('{:+10,.2f}\\n{:+10,.2f}'.format(10240.473, -3210.9521))"
   ]
  },
  {
   "cell_type": "markdown",
   "id": "7aa201b1-32fe-4538-bfef-d1abc0619f63",
   "metadata": {},
   "source": [
    "8.3 Self Check DeeDee Walker"
   ]
  },
  {
   "cell_type": "code",
   "execution_count": 8,
   "id": "85c56e7e-4e98-419d-9272-dae2532f3914",
   "metadata": {},
   "outputs": [],
   "source": [
    "s1 = 'DeeDee'"
   ]
  },
  {
   "cell_type": "code",
   "execution_count": 9,
   "id": "055c2f77-abf7-4011-8acb-1baba745586a",
   "metadata": {},
   "outputs": [],
   "source": [
    "s2 = 'Walker'"
   ]
  },
  {
   "cell_type": "code",
   "execution_count": 10,
   "id": "be3d97df-a42c-4834-9812-d520bbef4b42",
   "metadata": {},
   "outputs": [],
   "source": [
    "s1 += ' ' + s2"
   ]
  },
  {
   "cell_type": "code",
   "execution_count": 11,
   "id": "881696c2-8944-4a9e-bd60-99668e84086d",
   "metadata": {},
   "outputs": [],
   "source": [
    "symbol = '*'"
   ]
  },
  {
   "cell_type": "code",
   "execution_count": 12,
   "id": "6809887b-2e97-4530-924b-3483dfde31f4",
   "metadata": {},
   "outputs": [],
   "source": [
    "symbol *=13"
   ]
  },
  {
   "cell_type": "code",
   "execution_count": 13,
   "id": "6c4d827e-1671-4c98-b78c-426def228ad6",
   "metadata": {},
   "outputs": [
    {
     "name": "stdout",
     "output_type": "stream",
     "text": [
      "*************\n",
      "DeeDee Walker\n",
      "*************\n"
     ]
    }
   ],
   "source": [
    "print(f'{symbol}\\n{s1}\\n{symbol}')"
   ]
  },
  {
   "cell_type": "markdown",
   "id": "61b3cdc2-e5d6-4572-bbec-e83c1882f113",
   "metadata": {},
   "source": [
    "8.4 Self Check DeeDee Walker"
   ]
  },
  {
   "cell_type": "code",
   "execution_count": 15,
   "id": "e1402314-ecae-41a0-9d25-0b74c97fccef",
   "metadata": {},
   "outputs": [],
   "source": [
    "name = '     DeeDee Walker     '"
   ]
  },
  {
   "cell_type": "code",
   "execution_count": 16,
   "id": "63a37233-ff80-419c-99da-7c2089c89ee0",
   "metadata": {},
   "outputs": [
    {
     "data": {
      "text/plain": [
       "'DeeDee Walker'"
      ]
     },
     "execution_count": 16,
     "metadata": {},
     "output_type": "execute_result"
    }
   ],
   "source": [
    "name.strip()"
   ]
  },
  {
   "cell_type": "code",
   "execution_count": 17,
   "id": "63f69a0e-0950-4969-abe6-35034332d560",
   "metadata": {},
   "outputs": [
    {
     "data": {
      "text/plain": [
       "'DeeDee Walker     '"
      ]
     },
     "execution_count": 17,
     "metadata": {},
     "output_type": "execute_result"
    }
   ],
   "source": [
    "name.lstrip()"
   ]
  },
  {
   "cell_type": "code",
   "execution_count": 18,
   "id": "ed652187-248e-4285-a883-58ee9b6ab68d",
   "metadata": {},
   "outputs": [
    {
     "data": {
      "text/plain": [
       "'     DeeDee Walker'"
      ]
     },
     "execution_count": 18,
     "metadata": {},
     "output_type": "execute_result"
    }
   ],
   "source": [
    "name.rstrip()"
   ]
  },
  {
   "cell_type": "markdown",
   "id": "f424aa11-05c1-4d13-92ae-22557c902c1c",
   "metadata": {},
   "source": [
    "8.5 Self Check DeeDee Walker"
   ]
  },
  {
   "cell_type": "code",
   "execution_count": 19,
   "id": "8df1c91c-7ac5-41ff-abaa-6e94346cb612",
   "metadata": {},
   "outputs": [],
   "source": [
    "test_string = 'happy new year'"
   ]
  },
  {
   "cell_type": "code",
   "execution_count": 20,
   "id": "ecc6f268-b39d-42b6-a74c-b4eae5bb59c4",
   "metadata": {},
   "outputs": [
    {
     "data": {
      "text/plain": [
       "'Happy new year'"
      ]
     },
     "execution_count": 20,
     "metadata": {},
     "output_type": "execute_result"
    }
   ],
   "source": [
    "test_string.capitalize()"
   ]
  },
  {
   "cell_type": "code",
   "execution_count": 21,
   "id": "f0db0c8b-5419-4975-98e9-40d13b1a7571",
   "metadata": {},
   "outputs": [
    {
     "data": {
      "text/plain": [
       "'Happy New Year'"
      ]
     },
     "execution_count": 21,
     "metadata": {},
     "output_type": "execute_result"
    }
   ],
   "source": [
    "test_string.title()"
   ]
  },
  {
   "cell_type": "markdown",
   "id": "5cb95e3f-53b4-4b1b-8b15-b0c6d586d838",
   "metadata": {},
   "source": [
    "8.7 Self Check DeeDee Walker"
   ]
  },
  {
   "cell_type": "code",
   "execution_count": 22,
   "id": "6a5386d2-69ae-4f33-8ce1-eb2fab98bc90",
   "metadata": {},
   "outputs": [],
   "source": [
    "sentence = 'to be or not to be that is the question'"
   ]
  },
  {
   "cell_type": "code",
   "execution_count": 23,
   "id": "82e9c27e-4afb-4977-8a0b-0614589e85f7",
   "metadata": {},
   "outputs": [
    {
     "name": "stdout",
     "output_type": "stream",
     "text": [
      "to to that the "
     ]
    }
   ],
   "source": [
    "for word in sentence.split():\n",
    "    if word.startswith('t'):\n",
    "        print(word, end=' ')"
   ]
  },
  {
   "cell_type": "markdown",
   "id": "a8dc5159-0b6c-407d-b332-48c16d9d5122",
   "metadata": {},
   "source": [
    "8.8 Self Check DeeDee Walker"
   ]
  },
  {
   "cell_type": "code",
   "execution_count": 24,
   "id": "8a1c014e-6c14-4051-9f87-d0fcd3da620a",
   "metadata": {},
   "outputs": [],
   "source": [
    "values = '1 2 3 4 5'"
   ]
  },
  {
   "cell_type": "code",
   "execution_count": 25,
   "id": "8f439482-222e-4f64-9c77-f931636e0776",
   "metadata": {},
   "outputs": [
    {
     "data": {
      "text/plain": [
       "'1 2 3 4 5'"
      ]
     },
     "execution_count": 25,
     "metadata": {},
     "output_type": "execute_result"
    }
   ],
   "source": [
    "values"
   ]
  },
  {
   "cell_type": "code",
   "execution_count": 26,
   "id": "7c2dd5f1-fef5-48cd-a751-2cdfd3a2f183",
   "metadata": {},
   "outputs": [
    {
     "data": {
      "text/plain": [
       "'1 --> 2 --> 3 --> 4 --> 5'"
      ]
     },
     "execution_count": 26,
     "metadata": {},
     "output_type": "execute_result"
    }
   ],
   "source": [
    "values.replace(' ',' --> ')"
   ]
  },
  {
   "cell_type": "code",
   "execution_count": 27,
   "id": "85b8ab0f-721d-4d7a-a03d-ec9155195032",
   "metadata": {},
   "outputs": [
    {
     "data": {
      "text/plain": [
       "'1 --> 2 --> 3 --> 4 --> 5'"
      ]
     },
     "execution_count": 27,
     "metadata": {},
     "output_type": "execute_result"
    }
   ],
   "source": [
    "'1 2 3 4 5'.replace(' ',' --> ')"
   ]
  },
  {
   "cell_type": "markdown",
   "id": "bbc223c4-fac7-4488-a02f-f996e4873479",
   "metadata": {},
   "source": [
    "8.9 Self Check DeeDee Walker"
   ]
  },
  {
   "cell_type": "code",
   "execution_count": 34,
   "id": "4c7a982c-d244-40f1-b08f-d75c4521f44b",
   "metadata": {},
   "outputs": [],
   "source": [
    "string = 'DeeDee Walker'"
   ]
  },
  {
   "cell_type": "code",
   "execution_count": 35,
   "id": "32f65b49-c388-45cb-84a8-8f1ff175795f",
   "metadata": {},
   "outputs": [
    {
     "data": {
      "text/plain": [
       "'Walker,DeeDee'"
      ]
     },
     "execution_count": 35,
     "metadata": {},
     "output_type": "execute_result"
    }
   ],
   "source": [
    "','.join(reversed(string.split()))"
   ]
  },
  {
   "cell_type": "markdown",
   "id": "c9d1323d-2337-4571-981d-7b9e389c7286",
   "metadata": {},
   "source": [
    "Partition & rpartition (this is interesting)"
   ]
  },
  {
   "cell_type": "code",
   "execution_count": 7,
   "id": "2a3a3d8b-3756-472e-978e-58143e5f3964",
   "metadata": {},
   "outputs": [],
   "source": [
    "url = 'http://www.deitel.com/books/PyCDS/table_of_contents.html'"
   ]
  },
  {
   "cell_type": "code",
   "execution_count": 8,
   "id": "0e442381-2665-44ea-9662-96b4e967af14",
   "metadata": {},
   "outputs": [],
   "source": [
    "start, mid, url2 = url.partition('://')"
   ]
  },
  {
   "cell_type": "code",
   "execution_count": 9,
   "id": "4d532212-cf42-4c77-b302-ca94e8fb2994",
   "metadata": {},
   "outputs": [
    {
     "data": {
      "text/plain": [
       "'www.deitel.com/books/PyCDS/table_of_contents.html'"
      ]
     },
     "execution_count": 9,
     "metadata": {},
     "output_type": "execute_result"
    }
   ],
   "source": [
    "url2"
   ]
  },
  {
   "cell_type": "code",
   "execution_count": 10,
   "id": "df23e416-d100-4659-9721-f0eae732e547",
   "metadata": {},
   "outputs": [],
   "source": [
    "newstring, sep, url3 = url2.rpartition(\"/\")"
   ]
  },
  {
   "cell_type": "code",
   "execution_count": 11,
   "id": "c3112bd2-a584-45a1-9270-9894e1341d67",
   "metadata": {},
   "outputs": [
    {
     "data": {
      "text/plain": [
       "'table_of_contents.html'"
      ]
     },
     "execution_count": 11,
     "metadata": {},
     "output_type": "execute_result"
    }
   ],
   "source": [
    "url3"
   ]
  },
  {
   "cell_type": "code",
   "execution_count": 12,
   "id": "b0f3df7a-5627-48de-b703-1c16ced58a99",
   "metadata": {},
   "outputs": [
    {
     "data": {
      "text/plain": [
       "'www.deitel.com/books/PyCDS'"
      ]
     },
     "execution_count": 12,
     "metadata": {},
     "output_type": "execute_result"
    }
   ],
   "source": [
    "newstring"
   ]
  },
  {
   "cell_type": "code",
   "execution_count": 17,
   "id": "2217ac13-4cdc-44c9-b491-8dfcca797d9b",
   "metadata": {},
   "outputs": [],
   "source": [
    "start, sep2, newstring2 = newstring.partition(\"/\")"
   ]
  },
  {
   "cell_type": "code",
   "execution_count": 18,
   "id": "86e39183-59bf-4468-b4a9-faff73d2389c",
   "metadata": {},
   "outputs": [
    {
     "data": {
      "text/plain": [
       "'books/PyCDS'"
      ]
     },
     "execution_count": 18,
     "metadata": {},
     "output_type": "execute_result"
    }
   ],
   "source": [
    "newstring2"
   ]
  },
  {
   "cell_type": "code",
   "execution_count": 19,
   "id": "13382634-eeb7-45fe-9477-7c7470bb02f0",
   "metadata": {},
   "outputs": [
    {
     "data": {
      "text/plain": [
       "'www.deitel.com'"
      ]
     },
     "execution_count": 19,
     "metadata": {},
     "output_type": "execute_result"
    }
   ],
   "source": [
    "start"
   ]
  },
  {
   "cell_type": "markdown",
   "id": "aa20c8a0-fe62-439b-a970-13341c8cfdd9",
   "metadata": {},
   "source": [
    "8.12.1 Self Check DeeDee Walker"
   ]
  },
  {
   "cell_type": "code",
   "execution_count": 30,
   "id": "f4afc9e7-a5e0-42e0-8e3a-066dab63215a",
   "metadata": {},
   "outputs": [],
   "source": [
    "import re"
   ]
  },
  {
   "cell_type": "code",
   "execution_count": 31,
   "id": "ac33aec8-7c16-47ae-9bff-4d6fbe35dfab",
   "metadata": {},
   "outputs": [],
   "source": [
    "pattern = r'\\d+ [A-Z][a-z]* [A-Z][a-z]*'"
   ]
  },
  {
   "cell_type": "code",
   "execution_count": 32,
   "id": "24fc3e07-ae25-4555-aaeb-8c673de49236",
   "metadata": {},
   "outputs": [
    {
     "data": {
      "text/plain": [
       "'Match'"
      ]
     },
     "execution_count": 32,
     "metadata": {},
     "output_type": "execute_result"
    }
   ],
   "source": [
    "'Match' if re.fullmatch(pattern, '123 Main Street') else 'No match'"
   ]
  },
  {
   "cell_type": "markdown",
   "id": "72b43812-ea0c-4dae-9301-d97c4e762589",
   "metadata": {},
   "source": [
    "8.12.2 Self Check"
   ]
  },
  {
   "cell_type": "code",
   "execution_count": 38,
   "id": "fd28c6e0-67f5-4b46-831e-d6aa27375998",
   "metadata": {},
   "outputs": [
    {
     "data": {
      "text/plain": [
       "'A, B, C, D'"
      ]
     },
     "execution_count": 38,
     "metadata": {},
     "output_type": "execute_result"
    }
   ],
   "source": [
    "re.sub(r'\\t+', ', ', 'A\\tB\\t\\tC\\t\\t\\tD')"
   ]
  },
  {
   "cell_type": "code",
   "execution_count": 39,
   "id": "ea277877-ba05-4ee5-8258-337aa3d8a01e",
   "metadata": {},
   "outputs": [
    {
     "data": {
      "text/plain": [
       "['123', 'Main', 'Street']"
      ]
     },
     "execution_count": 39,
     "metadata": {},
     "output_type": "execute_result"
    }
   ],
   "source": [
    "re.split(r'\\$+', '123$Main$$Street')"
   ]
  },
  {
   "cell_type": "markdown",
   "id": "af825f77-b4a5-4fb2-94c2-7fd80bd5e1f6",
   "metadata": {},
   "source": [
    "8.12.3 Self Check DeeDee Walker"
   ]
  },
  {
   "cell_type": "code",
   "execution_count": 1,
   "id": "7d1c4214-45d7-4ded-87d5-22270cdcd829",
   "metadata": {},
   "outputs": [],
   "source": [
    "import re"
   ]
  },
  {
   "cell_type": "code",
   "execution_count": 2,
   "id": "c563e09a-acb0-4114-8d0c-95dced73cdae",
   "metadata": {},
   "outputs": [],
   "source": [
    "text = '10 + 5'"
   ]
  },
  {
   "cell_type": "code",
   "execution_count": 3,
   "id": "b7adc028-d058-47c3-aadc-0edf282dca73",
   "metadata": {},
   "outputs": [],
   "source": [
    "pattern = r'(\\d+) ([\\-+*]) (\\d+)'"
   ]
  },
  {
   "cell_type": "code",
   "execution_count": 4,
   "id": "b3d481a3-acd2-402d-b4f0-e8d9fd3ad2a9",
   "metadata": {},
   "outputs": [],
   "source": [
    "result = re.search(pattern, text)"
   ]
  },
  {
   "cell_type": "code",
   "execution_count": 5,
   "id": "8722ce5f-ccc9-43c1-969c-7ef08b02b31e",
   "metadata": {},
   "outputs": [
    {
     "data": {
      "text/plain": [
       "('10', '+', '5')"
      ]
     },
     "execution_count": 5,
     "metadata": {},
     "output_type": "execute_result"
    }
   ],
   "source": [
    "result.groups()"
   ]
  },
  {
   "cell_type": "code",
   "execution_count": 6,
   "id": "57e7f294-4db6-4f54-b26c-8d7baf99fd2e",
   "metadata": {},
   "outputs": [
    {
     "data": {
      "text/plain": [
       "'10'"
      ]
     },
     "execution_count": 6,
     "metadata": {},
     "output_type": "execute_result"
    }
   ],
   "source": [
    "result.group(1)"
   ]
  },
  {
   "cell_type": "code",
   "execution_count": 7,
   "id": "0dec6153-f9ec-4032-baa7-66fb30a6b2b8",
   "metadata": {},
   "outputs": [
    {
     "data": {
      "text/plain": [
       "'+'"
      ]
     },
     "execution_count": 7,
     "metadata": {},
     "output_type": "execute_result"
    }
   ],
   "source": [
    "result.group(2)"
   ]
  },
  {
   "cell_type": "code",
   "execution_count": 8,
   "id": "e54a1f73-5cd2-495a-a7f5-6d3e282ce3ea",
   "metadata": {},
   "outputs": [
    {
     "data": {
      "text/plain": [
       "'5'"
      ]
     },
     "execution_count": 8,
     "metadata": {},
     "output_type": "execute_result"
    }
   ],
   "source": [
    "result.group(3)"
   ]
  }
 ],
 "metadata": {
  "kernelspec": {
   "display_name": "Python 3 (ipykernel)",
   "language": "python",
   "name": "python3"
  },
  "language_info": {
   "codemirror_mode": {
    "name": "ipython",
    "version": 3
   },
   "file_extension": ".py",
   "mimetype": "text/x-python",
   "name": "python",
   "nbconvert_exporter": "python",
   "pygments_lexer": "ipython3",
   "version": "3.9.12"
  }
 },
 "nbformat": 4,
 "nbformat_minor": 5
}
