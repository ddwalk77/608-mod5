{
 "cells": [
  {
   "cell_type": "markdown",
   "id": "eda213bb-5851-4606-8f03-c65e6a61741a",
   "metadata": {},
   "source": [
    "7.2 Self Check 2 DeeDee Walker"
   ]
  },
  {
   "cell_type": "code",
   "execution_count": 1,
   "id": "177fc255-4148-4b0d-a37a-a7e66dd03749",
   "metadata": {},
   "outputs": [],
   "source": [
    "import numpy as np"
   ]
  },
  {
   "cell_type": "code",
   "execution_count": 2,
   "id": "246a0ef3-06d9-4648-8fd1-eeb91d56fdba",
   "metadata": {},
   "outputs": [
    {
     "data": {
      "text/plain": [
       "array([ 2,  4,  6,  8, 10, 12, 14, 16, 18, 20])"
      ]
     },
     "execution_count": 2,
     "metadata": {},
     "output_type": "execute_result"
    }
   ],
   "source": [
    "np.array([x for x in range(2,21,2)])"
   ]
  },
  {
   "cell_type": "markdown",
   "id": "c5947b97-ddc9-4e60-b58c-5de2492151ca",
   "metadata": {},
   "source": [
    "7.2 Self Check 3 DeeDee Walker"
   ]
  },
  {
   "cell_type": "code",
   "execution_count": 3,
   "id": "ca0a22a5-a7e1-4a85-852b-0f9febfd179b",
   "metadata": {},
   "outputs": [],
   "source": [
    "import numpy as np"
   ]
  },
  {
   "cell_type": "code",
   "execution_count": 4,
   "id": "09f9f66d-04a5-4cc7-82d4-9ef289ad78d1",
   "metadata": {},
   "outputs": [
    {
     "data": {
      "text/plain": [
       "array([[ 2,  4,  6,  8, 10],\n",
       "       [ 1,  3,  5,  7,  9]])"
      ]
     },
     "execution_count": 4,
     "metadata": {},
     "output_type": "execute_result"
    }
   ],
   "source": [
    "np.array([[x for x in range(2,11,2)],[y for y in range(1,10,2)]])"
   ]
  },
  {
   "cell_type": "markdown",
   "id": "879e4b4a-776b-4e53-ae25-5d41de684d3f",
   "metadata": {},
   "source": [
    "7.3 Self Check 2 DeeDee Walker"
   ]
  },
  {
   "cell_type": "code",
   "execution_count": 5,
   "id": "f4759809-5ff2-42f6-bf5d-bea880580cfe",
   "metadata": {},
   "outputs": [],
   "source": [
    "import numpy as np"
   ]
  },
  {
   "cell_type": "code",
   "execution_count": 6,
   "id": "12b60bf2-0eaa-4d0c-ad2a-221dd3489ad9",
   "metadata": {},
   "outputs": [],
   "source": [
    "a = np.array([[x for x in range(2,11,2)],[y for y in range(1,10,2)]])"
   ]
  },
  {
   "cell_type": "code",
   "execution_count": 7,
   "id": "a93ba534-85b8-40af-8699-425766998b5e",
   "metadata": {},
   "outputs": [
    {
     "data": {
      "text/plain": [
       "2"
      ]
     },
     "execution_count": 7,
     "metadata": {},
     "output_type": "execute_result"
    }
   ],
   "source": [
    "a.ndim"
   ]
  },
  {
   "cell_type": "code",
   "execution_count": 8,
   "id": "04c44c36-ae16-4add-835c-b12afa156f0d",
   "metadata": {},
   "outputs": [
    {
     "data": {
      "text/plain": [
       "(2, 5)"
      ]
     },
     "execution_count": 8,
     "metadata": {},
     "output_type": "execute_result"
    }
   ],
   "source": [
    "a.shape"
   ]
  },
  {
   "cell_type": "markdown",
   "id": "94ae3e48-c47e-4a69-9304-e8adf8e8e2f3",
   "metadata": {},
   "source": [
    "7.5 Self Check 2 DeeDee Walker"
   ]
  },
  {
   "cell_type": "code",
   "execution_count": 9,
   "id": "9b693dd1-9296-4051-92c6-5b5742b6455f",
   "metadata": {},
   "outputs": [],
   "source": [
    "import numpy as np"
   ]
  },
  {
   "cell_type": "code",
   "execution_count": 11,
   "id": "6183223b-da9c-4563-bb01-15415a59fcc6",
   "metadata": {},
   "outputs": [
    {
     "data": {
      "text/plain": [
       "array([[ 2,  4,  6,  8, 10],\n",
       "       [12, 14, 16, 18, 20],\n",
       "       [22, 24, 26, 28, 30],\n",
       "       [32, 34, 36, 38, 40]])"
      ]
     },
     "execution_count": 11,
     "metadata": {},
     "output_type": "execute_result"
    }
   ],
   "source": [
    "np.arange(2,41,2).reshape(4,5)"
   ]
  },
  {
   "cell_type": "markdown",
   "id": "749882ad-3790-468d-bd24-fcd08385e584",
   "metadata": {},
   "source": [
    "7.6 Self Check 1 DeeDee Walker"
   ]
  },
  {
   "cell_type": "code",
   "execution_count": 22,
   "id": "5e23a4f2-0312-4974-bf41-a212d2e08808",
   "metadata": {},
   "outputs": [],
   "source": [
    "import numpy as np"
   ]
  },
  {
   "cell_type": "code",
   "execution_count": 23,
   "id": "6295ae1f-954d-4d28-9c82-eca48be66fc5",
   "metadata": {},
   "outputs": [
    {
     "name": "stdout",
     "output_type": "stream",
     "text": [
      "506 ms ± 9.42 ms per loop (mean ± std. dev. of 7 runs, 1 loop each)\n"
     ]
    }
   ],
   "source": [
    "%timeit sum([x for x in range(10_000_000)])"
   ]
  },
  {
   "cell_type": "code",
   "execution_count": 24,
   "id": "0a1bad3e-2ae3-407a-aa74-db477af52b1f",
   "metadata": {},
   "outputs": [
    {
     "name": "stdout",
     "output_type": "stream",
     "text": [
      "10.1 ms ± 49.5 µs per loop (mean ± std. dev. of 7 runs, 100 loops each)\n"
     ]
    }
   ],
   "source": [
    "%timeit np.arange(10_000_000).sum()"
   ]
  },
  {
   "cell_type": "markdown",
   "id": "6575c443-1716-4960-831e-0863be8aa7bb",
   "metadata": {},
   "source": [
    "7.7 Self Check 2 DeeDee Walker"
   ]
  },
  {
   "cell_type": "code",
   "execution_count": 25,
   "id": "f858d011-ae72-4d96-8810-693cd9830f62",
   "metadata": {},
   "outputs": [],
   "source": [
    "import numpy as np"
   ]
  },
  {
   "cell_type": "code",
   "execution_count": 26,
   "id": "8f9e6825-2ad4-40c4-953b-22e79ef6af58",
   "metadata": {},
   "outputs": [
    {
     "data": {
      "text/plain": [
       "array([ 1,  4,  9, 16, 25])"
      ]
     },
     "execution_count": 26,
     "metadata": {},
     "output_type": "execute_result"
    }
   ],
   "source": [
    "np.arange(1,6) **2"
   ]
  },
  {
   "cell_type": "markdown",
   "id": "19b23b6a-5210-4cdb-b514-3535a020a8ff",
   "metadata": {},
   "source": [
    "7.8 Self Check 2 DeeDee Walker"
   ]
  },
  {
   "cell_type": "code",
   "execution_count": 31,
   "id": "18b432a0-653c-4ec7-a6b9-18b923ed6486",
   "metadata": {},
   "outputs": [
    {
     "data": {
      "text/plain": [
       "array([[69, 69, 60, 69],\n",
       "       [80, 75, 69, 97],\n",
       "       [68, 94, 71, 82]])"
      ]
     },
     "execution_count": 31,
     "metadata": {},
     "output_type": "execute_result"
    }
   ],
   "source": [
    "import numpy as np\n",
    "grades = np.random.randint(60,101,12).reshape(3,4)\n",
    "grades"
   ]
  },
  {
   "cell_type": "code",
   "execution_count": 32,
   "id": "8fbec281-4eb5-490e-a9b7-a3639a43a333",
   "metadata": {},
   "outputs": [
    {
     "data": {
      "text/plain": [
       "75.25"
      ]
     },
     "execution_count": 32,
     "metadata": {},
     "output_type": "execute_result"
    }
   ],
   "source": [
    "grades.mean()"
   ]
  },
  {
   "cell_type": "code",
   "execution_count": 33,
   "id": "bc4a6735-1c8d-407e-9274-f3fa8838480c",
   "metadata": {},
   "outputs": [
    {
     "data": {
      "text/plain": [
       "array([66.75, 80.25, 78.75])"
      ]
     },
     "execution_count": 33,
     "metadata": {},
     "output_type": "execute_result"
    }
   ],
   "source": [
    "grades.mean(axis=1)"
   ]
  },
  {
   "cell_type": "code",
   "execution_count": 34,
   "id": "f946fb4c-1709-4187-889d-6f6b9cc6c0ca",
   "metadata": {},
   "outputs": [
    {
     "data": {
      "text/plain": [
       "array([72.33333333, 79.33333333, 66.66666667, 82.66666667])"
      ]
     },
     "execution_count": 34,
     "metadata": {},
     "output_type": "execute_result"
    }
   ],
   "source": [
    "grades.mean(axis=0)"
   ]
  },
  {
   "cell_type": "markdown",
   "id": "ffbfc600-b21d-4c4d-8284-10b89da13ed6",
   "metadata": {},
   "source": [
    "7.9 Self Check 2 DeeDee Walker\n",
    "\n",
    "Create an array of the values from 1 through 5, then use the power  universal function and broadcasting to cube each value. "
   ]
  },
  {
   "cell_type": "code",
   "execution_count": 1,
   "id": "7936a832-fd2f-435d-8619-7437f2c66dfb",
   "metadata": {},
   "outputs": [],
   "source": [
    "import numpy as np"
   ]
  },
  {
   "cell_type": "code",
   "execution_count": 2,
   "id": "244a190a-5d8b-4b6a-8e7f-c8afc003256f",
   "metadata": {},
   "outputs": [],
   "source": [
    "numbers = np.arange(1,6)"
   ]
  },
  {
   "cell_type": "code",
   "execution_count": 3,
   "id": "44424f28-a9c1-452b-a657-f3728e0968ec",
   "metadata": {},
   "outputs": [
    {
     "data": {
      "text/plain": [
       "array([  1,   8,  27,  64, 125], dtype=int32)"
      ]
     },
     "execution_count": 3,
     "metadata": {},
     "output_type": "execute_result"
    }
   ],
   "source": [
    "np.power(numbers,3)"
   ]
  },
  {
   "cell_type": "markdown",
   "id": "324a4a43-540e-4764-a75d-9723bb20891c",
   "metadata": {},
   "source": [
    "7.10 Self Check 1 DeeDee Walker"
   ]
  },
  {
   "cell_type": "code",
   "execution_count": 4,
   "id": "7b2bba74-881e-47ce-8858-642bbfe5ce2a",
   "metadata": {},
   "outputs": [],
   "source": [
    "import numpy as np"
   ]
  },
  {
   "cell_type": "code",
   "execution_count": 5,
   "id": "a9136fed-cace-4239-bca9-a7f4fb8291d7",
   "metadata": {},
   "outputs": [],
   "source": [
    "numbers = np.array([[ 1, 2, 3, 4, 5],\n",
    "                    [6, 7, 8, 9, 10],\n",
    "                    [11, 12, 13, 14, 15]])"
   ]
  },
  {
   "cell_type": "code",
   "execution_count": 6,
   "id": "c0774d8b-6785-435d-b52c-60b30814ceb1",
   "metadata": {},
   "outputs": [
    {
     "data": {
      "text/plain": [
       "array([[ 1,  2,  3,  4,  5],\n",
       "       [ 6,  7,  8,  9, 10],\n",
       "       [11, 12, 13, 14, 15]])"
      ]
     },
     "execution_count": 6,
     "metadata": {},
     "output_type": "execute_result"
    }
   ],
   "source": [
    "numbers"
   ]
  },
  {
   "cell_type": "code",
   "execution_count": 7,
   "id": "6e182fa0-5638-4576-adf4-ef4809af1128",
   "metadata": {},
   "outputs": [
    {
     "data": {
      "text/plain": [
       "array([ 6,  7,  8,  9, 10])"
      ]
     },
     "execution_count": 7,
     "metadata": {},
     "output_type": "execute_result"
    }
   ],
   "source": [
    "#select the 2nd row\n",
    "numbers[1]"
   ]
  },
  {
   "cell_type": "code",
   "execution_count": 10,
   "id": "e0bd52d3-3209-4f8a-b30c-176a264fb3f1",
   "metadata": {},
   "outputs": [
    {
     "data": {
      "text/plain": [
       "array([[ 1,  2,  3,  4,  5],\n",
       "       [11, 12, 13, 14, 15]])"
      ]
     },
     "execution_count": 10,
     "metadata": {},
     "output_type": "execute_result"
    }
   ],
   "source": [
    "#select the 1st & 3rd rows\n",
    "numbers[[0, 2]]"
   ]
  },
  {
   "cell_type": "code",
   "execution_count": 12,
   "id": "ccb4fe2d-a479-417f-bf83-2ae7d062272f",
   "metadata": {},
   "outputs": [
    {
     "data": {
      "text/plain": [
       "array([[ 2,  3,  4],\n",
       "       [ 7,  8,  9],\n",
       "       [12, 13, 14]])"
      ]
     },
     "execution_count": 12,
     "metadata": {},
     "output_type": "execute_result"
    }
   ],
   "source": [
    "#select the middle 3 columns\n",
    "numbers[:, 1:4]"
   ]
  },
  {
   "cell_type": "markdown",
   "id": "0f009b5b-8a7d-4f8e-81c1-6c105856456a",
   "metadata": {},
   "source": [
    "7.13 Self Check 1 DeeDee Walker"
   ]
  },
  {
   "cell_type": "code",
   "execution_count": 12,
   "id": "d5e8aec2-d98c-47c9-b331-a3f34de06253",
   "metadata": {},
   "outputs": [],
   "source": [
    "import numpy as np"
   ]
  },
  {
   "cell_type": "code",
   "execution_count": 13,
   "id": "cd8d5812-f2e0-48bf-b9dd-d05f4303f8bc",
   "metadata": {},
   "outputs": [],
   "source": [
    "grades = np.array([[1, 2, 3],\n",
    "                   [4, 5, 6]])"
   ]
  },
  {
   "cell_type": "code",
   "execution_count": 14,
   "id": "c4cb5de2-af07-499c-8674-697d573cba7e",
   "metadata": {},
   "outputs": [],
   "source": [
    "grades2 = grades.copy()"
   ]
  },
  {
   "cell_type": "code",
   "execution_count": 15,
   "id": "526aa6b8-3e28-4dea-babf-5309863d5825",
   "metadata": {},
   "outputs": [],
   "source": [
    "grades3 = np.hstack((grades, grades2))"
   ]
  },
  {
   "cell_type": "code",
   "execution_count": 16,
   "id": "593868ce-d1f4-4449-96b5-a9b3238e1ae6",
   "metadata": {},
   "outputs": [
    {
     "data": {
      "text/plain": [
       "array([[1, 2, 3, 1, 2, 3],\n",
       "       [4, 5, 6, 4, 5, 6],\n",
       "       [1, 2, 3, 1, 2, 3],\n",
       "       [4, 5, 6, 4, 5, 6]])"
      ]
     },
     "execution_count": 16,
     "metadata": {},
     "output_type": "execute_result"
    }
   ],
   "source": [
    "np.vstack((grades3, grades3))"
   ]
  },
  {
   "cell_type": "code",
   "execution_count": 17,
   "id": "8b2631d6-c4c2-4045-bbb5-7cd4e1a6265e",
   "metadata": {},
   "outputs": [],
   "source": [
    "#book version"
   ]
  },
  {
   "cell_type": "code",
   "execution_count": 18,
   "id": "7d665c22-595d-4867-b408-4d0c8b395db8",
   "metadata": {},
   "outputs": [],
   "source": [
    "a = np.arange(1,7).reshape(2,3)"
   ]
  },
  {
   "cell_type": "code",
   "execution_count": 19,
   "id": "66cdbe19-7deb-420e-9334-2c1e6e2d5329",
   "metadata": {},
   "outputs": [],
   "source": [
    "a = np.hstack((a,a))"
   ]
  },
  {
   "cell_type": "code",
   "execution_count": 20,
   "id": "e1722076-6a17-42cb-9436-e7f3b2a23574",
   "metadata": {},
   "outputs": [],
   "source": [
    "a = np.vstack((a,a))"
   ]
  },
  {
   "cell_type": "code",
   "execution_count": 21,
   "id": "6c80a387-6eb0-4a65-9832-72c5a766db2a",
   "metadata": {},
   "outputs": [
    {
     "data": {
      "text/plain": [
       "array([[1, 2, 3, 1, 2, 3],\n",
       "       [4, 5, 6, 4, 5, 6],\n",
       "       [1, 2, 3, 1, 2, 3],\n",
       "       [4, 5, 6, 4, 5, 6]])"
      ]
     },
     "execution_count": 21,
     "metadata": {},
     "output_type": "execute_result"
    }
   ],
   "source": [
    "a"
   ]
  },
  {
   "cell_type": "markdown",
   "id": "aa0df4e8-9360-401f-bd1f-d2c669fe72c7",
   "metadata": {},
   "source": [
    "7.14.1 Self Check 1 DeeDee Walker"
   ]
  },
  {
   "cell_type": "code",
   "execution_count": 22,
   "id": "c867c358-7257-4cf1-80a4-9c28aef18be4",
   "metadata": {},
   "outputs": [],
   "source": [
    "import numpy as np"
   ]
  },
  {
   "cell_type": "code",
   "execution_count": 23,
   "id": "8a16efe6-3ef5-4224-9489-67f6b3607bd8",
   "metadata": {},
   "outputs": [],
   "source": [
    "import pandas as pd"
   ]
  },
  {
   "cell_type": "code",
   "execution_count": 31,
   "id": "b077540a-cb23-421e-b6a8-4a03dc3440cf",
   "metadata": {},
   "outputs": [],
   "source": [
    "temps = np.random.randint(60,101,6)"
   ]
  },
  {
   "cell_type": "code",
   "execution_count": 32,
   "id": "afb418fc-2427-4b4e-8d3a-9e283d3e5e3c",
   "metadata": {},
   "outputs": [],
   "source": [
    "temperatures = pd.Series(temps)"
   ]
  },
  {
   "cell_type": "code",
   "execution_count": 33,
   "id": "72b484be-2008-4131-babb-6b4fcc7fb637",
   "metadata": {},
   "outputs": [
    {
     "data": {
      "text/plain": [
       "0    91\n",
       "1    97\n",
       "2    93\n",
       "3    88\n",
       "4    94\n",
       "5    74\n",
       "dtype: int32"
      ]
     },
     "execution_count": 33,
     "metadata": {},
     "output_type": "execute_result"
    }
   ],
   "source": [
    "temperatures"
   ]
  },
  {
   "cell_type": "code",
   "execution_count": 34,
   "id": "e8d73b8a-33c6-435c-b5b5-d873ddefc424",
   "metadata": {},
   "outputs": [
    {
     "data": {
      "text/plain": [
       "74"
      ]
     },
     "execution_count": 34,
     "metadata": {},
     "output_type": "execute_result"
    }
   ],
   "source": [
    "temperatures.min()"
   ]
  },
  {
   "cell_type": "code",
   "execution_count": 35,
   "id": "5e0ccd29-4862-4a3c-9d6f-dfc607faacee",
   "metadata": {},
   "outputs": [
    {
     "data": {
      "text/plain": [
       "97"
      ]
     },
     "execution_count": 35,
     "metadata": {},
     "output_type": "execute_result"
    }
   ],
   "source": [
    "temperatures.max()"
   ]
  },
  {
   "cell_type": "code",
   "execution_count": 36,
   "id": "7ff348d4-fb8d-461b-af86-0366ca7c264c",
   "metadata": {},
   "outputs": [
    {
     "data": {
      "text/plain": [
       "89.5"
      ]
     },
     "execution_count": 36,
     "metadata": {},
     "output_type": "execute_result"
    }
   ],
   "source": [
    "temperatures.mean()"
   ]
  },
  {
   "cell_type": "code",
   "execution_count": 37,
   "id": "8a51f1c4-5fb1-4d82-b3b7-df0a2bb4cde6",
   "metadata": {},
   "outputs": [
    {
     "data": {
      "text/plain": [
       "count     6.000000\n",
       "mean     89.500000\n",
       "std       8.167007\n",
       "min      74.000000\n",
       "25%      88.750000\n",
       "50%      92.000000\n",
       "75%      93.750000\n",
       "max      97.000000\n",
       "dtype: float64"
      ]
     },
     "execution_count": 37,
     "metadata": {},
     "output_type": "execute_result"
    }
   ],
   "source": [
    "temperatures.describe()"
   ]
  },
  {
   "cell_type": "markdown",
   "id": "34c3ce4f-1006-4870-bb78-8c6b4ab878aa",
   "metadata": {},
   "source": [
    "7.14.2 Self Check 1 DeeDee Walker"
   ]
  },
  {
   "cell_type": "code",
   "execution_count": 38,
   "id": "da103d2c-50a8-4f0f-89fb-ff71b54bd245",
   "metadata": {},
   "outputs": [],
   "source": [
    "import pandas as pd"
   ]
  },
  {
   "cell_type": "code",
   "execution_count": 39,
   "id": "55b44b03-c1d7-4961-b631-61fe8a6057f8",
   "metadata": {},
   "outputs": [],
   "source": [
    "temps = {'Mon': [68, 89], 'Tue': [71, 93], 'Wed': [66, 82],\n",
    "         'Thu': [75, 97], 'Fri': [62, 79]}"
   ]
  },
  {
   "cell_type": "code",
   "execution_count": 40,
   "id": "9297768c-c8dc-4391-9ae6-ef3f779c7454",
   "metadata": {},
   "outputs": [],
   "source": [
    "temperatures = pd.DataFrame(temps, index=['Low', 'High'])"
   ]
  },
  {
   "cell_type": "code",
   "execution_count": 41,
   "id": "246c77c2-03f4-441b-ab19-41abd18ec221",
   "metadata": {},
   "outputs": [
    {
     "data": {
      "text/html": [
       "<div>\n",
       "<style scoped>\n",
       "    .dataframe tbody tr th:only-of-type {\n",
       "        vertical-align: middle;\n",
       "    }\n",
       "\n",
       "    .dataframe tbody tr th {\n",
       "        vertical-align: top;\n",
       "    }\n",
       "\n",
       "    .dataframe thead th {\n",
       "        text-align: right;\n",
       "    }\n",
       "</style>\n",
       "<table border=\"1\" class=\"dataframe\">\n",
       "  <thead>\n",
       "    <tr style=\"text-align: right;\">\n",
       "      <th></th>\n",
       "      <th>Mon</th>\n",
       "      <th>Tue</th>\n",
       "      <th>Wed</th>\n",
       "      <th>Thu</th>\n",
       "      <th>Fri</th>\n",
       "    </tr>\n",
       "  </thead>\n",
       "  <tbody>\n",
       "    <tr>\n",
       "      <th>Low</th>\n",
       "      <td>68</td>\n",
       "      <td>71</td>\n",
       "      <td>66</td>\n",
       "      <td>75</td>\n",
       "      <td>62</td>\n",
       "    </tr>\n",
       "    <tr>\n",
       "      <th>High</th>\n",
       "      <td>89</td>\n",
       "      <td>93</td>\n",
       "      <td>82</td>\n",
       "      <td>97</td>\n",
       "      <td>79</td>\n",
       "    </tr>\n",
       "  </tbody>\n",
       "</table>\n",
       "</div>"
      ],
      "text/plain": [
       "      Mon  Tue  Wed  Thu  Fri\n",
       "Low    68   71   66   75   62\n",
       "High   89   93   82   97   79"
      ]
     },
     "execution_count": 41,
     "metadata": {},
     "output_type": "execute_result"
    }
   ],
   "source": [
    "temperatures"
   ]
  },
  {
   "cell_type": "code",
   "execution_count": 49,
   "id": "60aadbdc-aa21-4c23-8dad-28e61c6917e2",
   "metadata": {},
   "outputs": [
    {
     "data": {
      "text/html": [
       "<div>\n",
       "<style scoped>\n",
       "    .dataframe tbody tr th:only-of-type {\n",
       "        vertical-align: middle;\n",
       "    }\n",
       "\n",
       "    .dataframe tbody tr th {\n",
       "        vertical-align: top;\n",
       "    }\n",
       "\n",
       "    .dataframe thead th {\n",
       "        text-align: right;\n",
       "    }\n",
       "</style>\n",
       "<table border=\"1\" class=\"dataframe\">\n",
       "  <thead>\n",
       "    <tr style=\"text-align: right;\">\n",
       "      <th></th>\n",
       "      <th>Mon</th>\n",
       "      <th>Tue</th>\n",
       "      <th>Wed</th>\n",
       "    </tr>\n",
       "  </thead>\n",
       "  <tbody>\n",
       "    <tr>\n",
       "      <th>Low</th>\n",
       "      <td>68</td>\n",
       "      <td>71</td>\n",
       "      <td>66</td>\n",
       "    </tr>\n",
       "    <tr>\n",
       "      <th>High</th>\n",
       "      <td>89</td>\n",
       "      <td>93</td>\n",
       "      <td>82</td>\n",
       "    </tr>\n",
       "  </tbody>\n",
       "</table>\n",
       "</div>"
      ],
      "text/plain": [
       "      Mon  Tue  Wed\n",
       "Low    68   71   66\n",
       "High   89   93   82"
      ]
     },
     "execution_count": 49,
     "metadata": {},
     "output_type": "execute_result"
    }
   ],
   "source": [
    "temperatures.loc['Low':'High',['Mon','Tue','Wed']]"
   ]
  },
  {
   "cell_type": "code",
   "execution_count": 55,
   "id": "ad12fbc0-5d00-4301-a22f-12bdf224fde2",
   "metadata": {},
   "outputs": [
    {
     "data": {
      "text/html": [
       "<div>\n",
       "<style scoped>\n",
       "    .dataframe tbody tr th:only-of-type {\n",
       "        vertical-align: middle;\n",
       "    }\n",
       "\n",
       "    .dataframe tbody tr th {\n",
       "        vertical-align: top;\n",
       "    }\n",
       "\n",
       "    .dataframe thead th {\n",
       "        text-align: right;\n",
       "    }\n",
       "</style>\n",
       "<table border=\"1\" class=\"dataframe\">\n",
       "  <thead>\n",
       "    <tr style=\"text-align: right;\">\n",
       "      <th></th>\n",
       "      <th>Mon</th>\n",
       "      <th>Tue</th>\n",
       "      <th>Wed</th>\n",
       "    </tr>\n",
       "  </thead>\n",
       "  <tbody>\n",
       "    <tr>\n",
       "      <th>Low</th>\n",
       "      <td>68</td>\n",
       "      <td>71</td>\n",
       "      <td>66</td>\n",
       "    </tr>\n",
       "    <tr>\n",
       "      <th>High</th>\n",
       "      <td>89</td>\n",
       "      <td>93</td>\n",
       "      <td>82</td>\n",
       "    </tr>\n",
       "  </tbody>\n",
       "</table>\n",
       "</div>"
      ],
      "text/plain": [
       "      Mon  Tue  Wed\n",
       "Low    68   71   66\n",
       "High   89   93   82"
      ]
     },
     "execution_count": 55,
     "metadata": {},
     "output_type": "execute_result"
    }
   ],
   "source": [
    "temperatures.loc[:,'Mon':'Wed']"
   ]
  },
  {
   "cell_type": "code",
   "execution_count": 56,
   "id": "9973c87f-b1c3-47a9-9199-957c840a4936",
   "metadata": {},
   "outputs": [
    {
     "data": {
      "text/plain": [
       "Mon    68\n",
       "Tue    71\n",
       "Wed    66\n",
       "Thu    75\n",
       "Fri    62\n",
       "Name: Low, dtype: int64"
      ]
     },
     "execution_count": 56,
     "metadata": {},
     "output_type": "execute_result"
    }
   ],
   "source": [
    "temperatures.loc['Low']"
   ]
  },
  {
   "cell_type": "code",
   "execution_count": 51,
   "id": "233b505e-899c-4d24-b41d-41beb45cc798",
   "metadata": {},
   "outputs": [
    {
     "data": {
      "text/html": [
       "<div>\n",
       "<style scoped>\n",
       "    .dataframe tbody tr th:only-of-type {\n",
       "        vertical-align: middle;\n",
       "    }\n",
       "\n",
       "    .dataframe tbody tr th {\n",
       "        vertical-align: top;\n",
       "    }\n",
       "\n",
       "    .dataframe thead th {\n",
       "        text-align: right;\n",
       "    }\n",
       "</style>\n",
       "<table border=\"1\" class=\"dataframe\">\n",
       "  <thead>\n",
       "    <tr style=\"text-align: right;\">\n",
       "      <th></th>\n",
       "      <th>Mon</th>\n",
       "      <th>Tue</th>\n",
       "      <th>Wed</th>\n",
       "      <th>Thu</th>\n",
       "      <th>Fri</th>\n",
       "    </tr>\n",
       "  </thead>\n",
       "  <tbody>\n",
       "    <tr>\n",
       "      <th>Low</th>\n",
       "      <td>68</td>\n",
       "      <td>71</td>\n",
       "      <td>66</td>\n",
       "      <td>75</td>\n",
       "      <td>62</td>\n",
       "    </tr>\n",
       "  </tbody>\n",
       "</table>\n",
       "</div>"
      ],
      "text/plain": [
       "     Mon  Tue  Wed  Thu  Fri\n",
       "Low   68   71   66   75   62"
      ]
     },
     "execution_count": 51,
     "metadata": {},
     "output_type": "execute_result"
    }
   ],
   "source": [
    "temperatures.iloc[[0], 0:5]"
   ]
  },
  {
   "cell_type": "code",
   "execution_count": 53,
   "id": "278e4bee-f681-4b14-95d9-98d56468b462",
   "metadata": {},
   "outputs": [],
   "source": [
    "pd.set_option('display.precision',2)"
   ]
  },
  {
   "cell_type": "code",
   "execution_count": 54,
   "id": "b1c543e7-9e12-42c7-a2eb-f9db2a77b3a6",
   "metadata": {},
   "outputs": [
    {
     "data": {
      "text/plain": [
       "Mon    78.5\n",
       "Tue    82.0\n",
       "Wed    74.0\n",
       "Thu    86.0\n",
       "Fri    70.5\n",
       "dtype: float64"
      ]
     },
     "execution_count": 54,
     "metadata": {},
     "output_type": "execute_result"
    }
   ],
   "source": [
    "temperatures.mean()"
   ]
  },
  {
   "cell_type": "code",
   "execution_count": 57,
   "id": "486f8b6c-c234-44ba-8ac6-543d76f39f8b",
   "metadata": {},
   "outputs": [
    {
     "data": {
      "text/plain": [
       "Low     68.4\n",
       "High    88.0\n",
       "dtype: float64"
      ]
     },
     "execution_count": 57,
     "metadata": {},
     "output_type": "execute_result"
    }
   ],
   "source": [
    "temperatures.mean(axis=1)"
   ]
  }
 ],
 "metadata": {
  "kernelspec": {
   "display_name": "Python 3 (ipykernel)",
   "language": "python",
   "name": "python3"
  },
  "language_info": {
   "codemirror_mode": {
    "name": "ipython",
    "version": 3
   },
   "file_extension": ".py",
   "mimetype": "text/x-python",
   "name": "python",
   "nbconvert_exporter": "python",
   "pygments_lexer": "ipython3",
   "version": "3.9.12"
  }
 },
 "nbformat": 4,
 "nbformat_minor": 5
}
