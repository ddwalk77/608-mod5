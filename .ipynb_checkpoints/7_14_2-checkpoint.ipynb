{
 "cells": [
  {
   "cell_type": "markdown",
   "id": "b0668e02-410a-41ba-8b7f-8a5bae37e52f",
   "metadata": {},
   "source": [
    "7.14.2 DataFrames DeeDee Walker"
   ]
  },
  {
   "cell_type": "code",
   "execution_count": 1,
   "id": "28a794f4-f261-469b-b719-b4032305569c",
   "metadata": {},
   "outputs": [],
   "source": [
    "import pandas as pd"
   ]
  },
  {
   "cell_type": "code",
   "execution_count": 2,
   "id": "c1d0b8be-e27b-4de4-a270-d79fce815cb6",
   "metadata": {},
   "outputs": [],
   "source": [
    "grades_dict = {'Wally': [87,96,70], 'Eva':[100,87,90],\n",
    "               'Sam': [94,77,90], 'Katie': [100,81,82],\n",
    "               'Bob': [83,65,85]}"
   ]
  },
  {
   "cell_type": "code",
   "execution_count": 3,
   "id": "eb935cb3-855d-449c-84b6-48676f30a313",
   "metadata": {},
   "outputs": [],
   "source": [
    "grades = pd.DataFrame(grades_dict, index=['Test1', 'Test2', 'Test3'])"
   ]
  },
  {
   "cell_type": "code",
   "execution_count": 4,
   "id": "bc16eee2-02fb-4e02-8e9c-a2fa6c8eb4ff",
   "metadata": {},
   "outputs": [
    {
     "data": {
      "text/html": [
       "<div>\n",
       "<style scoped>\n",
       "    .dataframe tbody tr th:only-of-type {\n",
       "        vertical-align: middle;\n",
       "    }\n",
       "\n",
       "    .dataframe tbody tr th {\n",
       "        vertical-align: top;\n",
       "    }\n",
       "\n",
       "    .dataframe thead th {\n",
       "        text-align: right;\n",
       "    }\n",
       "</style>\n",
       "<table border=\"1\" class=\"dataframe\">\n",
       "  <thead>\n",
       "    <tr style=\"text-align: right;\">\n",
       "      <th></th>\n",
       "      <th>Wally</th>\n",
       "      <th>Eva</th>\n",
       "      <th>Sam</th>\n",
       "      <th>Katie</th>\n",
       "      <th>Bob</th>\n",
       "    </tr>\n",
       "  </thead>\n",
       "  <tbody>\n",
       "    <tr>\n",
       "      <th>Test1</th>\n",
       "      <td>87</td>\n",
       "      <td>100</td>\n",
       "      <td>94</td>\n",
       "      <td>100</td>\n",
       "      <td>83</td>\n",
       "    </tr>\n",
       "    <tr>\n",
       "      <th>Test2</th>\n",
       "      <td>96</td>\n",
       "      <td>87</td>\n",
       "      <td>77</td>\n",
       "      <td>81</td>\n",
       "      <td>65</td>\n",
       "    </tr>\n",
       "    <tr>\n",
       "      <th>Test3</th>\n",
       "      <td>70</td>\n",
       "      <td>90</td>\n",
       "      <td>90</td>\n",
       "      <td>82</td>\n",
       "      <td>85</td>\n",
       "    </tr>\n",
       "  </tbody>\n",
       "</table>\n",
       "</div>"
      ],
      "text/plain": [
       "       Wally  Eva  Sam  Katie  Bob\n",
       "Test1     87  100   94    100   83\n",
       "Test2     96   87   77     81   65\n",
       "Test3     70   90   90     82   85"
      ]
     },
     "execution_count": 4,
     "metadata": {},
     "output_type": "execute_result"
    }
   ],
   "source": [
    "grades"
   ]
  },
  {
   "cell_type": "code",
   "execution_count": 5,
   "id": "84f48c22-f759-40e5-9d0d-948ad46c8f52",
   "metadata": {},
   "outputs": [
    {
     "data": {
      "text/plain": [
       "Test1    100\n",
       "Test2     87\n",
       "Test3     90\n",
       "Name: Eva, dtype: int64"
      ]
     },
     "execution_count": 5,
     "metadata": {},
     "output_type": "execute_result"
    }
   ],
   "source": [
    "grades['Eva']"
   ]
  },
  {
   "cell_type": "code",
   "execution_count": 6,
   "id": "29bbcd80-a7e4-4341-b543-61d83acf9c80",
   "metadata": {},
   "outputs": [
    {
     "data": {
      "text/plain": [
       "Test1    94\n",
       "Test2    77\n",
       "Test3    90\n",
       "Name: Sam, dtype: int64"
      ]
     },
     "execution_count": 6,
     "metadata": {},
     "output_type": "execute_result"
    }
   ],
   "source": [
    "grades.Sam"
   ]
  },
  {
   "cell_type": "code",
   "execution_count": 7,
   "id": "10e7d155-cff8-4764-a7c7-12051d1a0902",
   "metadata": {},
   "outputs": [
    {
     "data": {
      "text/plain": [
       "Wally     87\n",
       "Eva      100\n",
       "Sam       94\n",
       "Katie    100\n",
       "Bob       83\n",
       "Name: Test1, dtype: int64"
      ]
     },
     "execution_count": 7,
     "metadata": {},
     "output_type": "execute_result"
    }
   ],
   "source": [
    "grades.loc['Test1']"
   ]
  },
  {
   "cell_type": "code",
   "execution_count": 8,
   "id": "05a40984-412f-459a-8a69-2f303e1658ef",
   "metadata": {},
   "outputs": [
    {
     "data": {
      "text/plain": [
       "Wally     87\n",
       "Eva      100\n",
       "Sam       94\n",
       "Katie    100\n",
       "Bob       83\n",
       "Name: Test1, dtype: int64"
      ]
     },
     "execution_count": 8,
     "metadata": {},
     "output_type": "execute_result"
    }
   ],
   "source": [
    "grades.iloc[0]"
   ]
  },
  {
   "cell_type": "code",
   "execution_count": 9,
   "id": "d026aaa4-ad7a-4bb9-ab97-96b36a7a4b68",
   "metadata": {},
   "outputs": [
    {
     "data": {
      "text/plain": [
       "Wally    96\n",
       "Eva      87\n",
       "Sam      77\n",
       "Katie    81\n",
       "Bob      65\n",
       "Name: Test2, dtype: int64"
      ]
     },
     "execution_count": 9,
     "metadata": {},
     "output_type": "execute_result"
    }
   ],
   "source": [
    "grades.iloc[1]"
   ]
  },
  {
   "cell_type": "markdown",
   "id": "30fcef19-0e00-4623-b005-8c21933879e9",
   "metadata": {},
   "source": [
    "It's more direct to enter the location # vs typing the name but if we have a large set it may be easier to use the name if that is how we know the set"
   ]
  },
  {
   "cell_type": "code",
   "execution_count": 10,
   "id": "f8440629-8fe0-499e-a64c-34c66c931f21",
   "metadata": {},
   "outputs": [
    {
     "data": {
      "text/plain": [
       "87"
      ]
     },
     "execution_count": 10,
     "metadata": {},
     "output_type": "execute_result"
    }
   ],
   "source": [
    "grades.at['Test2', 'Eva']"
   ]
  },
  {
   "cell_type": "code",
   "execution_count": 11,
   "id": "5258261b-119f-4258-b18b-699466494728",
   "metadata": {},
   "outputs": [
    {
     "data": {
      "text/plain": [
       "70"
      ]
     },
     "execution_count": 11,
     "metadata": {},
     "output_type": "execute_result"
    }
   ],
   "source": [
    "grades.iat[2,0]"
   ]
  },
  {
   "cell_type": "code",
   "execution_count": 12,
   "id": "5c464035-7080-45f6-9914-8b598c7dcac8",
   "metadata": {},
   "outputs": [
    {
     "data": {
      "text/html": [
       "<div>\n",
       "<style scoped>\n",
       "    .dataframe tbody tr th:only-of-type {\n",
       "        vertical-align: middle;\n",
       "    }\n",
       "\n",
       "    .dataframe tbody tr th {\n",
       "        vertical-align: top;\n",
       "    }\n",
       "\n",
       "    .dataframe thead th {\n",
       "        text-align: right;\n",
       "    }\n",
       "</style>\n",
       "<table border=\"1\" class=\"dataframe\">\n",
       "  <thead>\n",
       "    <tr style=\"text-align: right;\">\n",
       "      <th></th>\n",
       "      <th>Wally</th>\n",
       "      <th>Eva</th>\n",
       "      <th>Sam</th>\n",
       "      <th>Katie</th>\n",
       "      <th>Bob</th>\n",
       "    </tr>\n",
       "  </thead>\n",
       "  <tbody>\n",
       "    <tr>\n",
       "      <th>count</th>\n",
       "      <td>3.000000</td>\n",
       "      <td>3.000000</td>\n",
       "      <td>3.000000</td>\n",
       "      <td>3.000000</td>\n",
       "      <td>3.000000</td>\n",
       "    </tr>\n",
       "    <tr>\n",
       "      <th>mean</th>\n",
       "      <td>84.333333</td>\n",
       "      <td>92.333333</td>\n",
       "      <td>87.000000</td>\n",
       "      <td>87.666667</td>\n",
       "      <td>77.666667</td>\n",
       "    </tr>\n",
       "    <tr>\n",
       "      <th>std</th>\n",
       "      <td>13.203535</td>\n",
       "      <td>6.806859</td>\n",
       "      <td>8.888194</td>\n",
       "      <td>10.692677</td>\n",
       "      <td>11.015141</td>\n",
       "    </tr>\n",
       "    <tr>\n",
       "      <th>min</th>\n",
       "      <td>70.000000</td>\n",
       "      <td>87.000000</td>\n",
       "      <td>77.000000</td>\n",
       "      <td>81.000000</td>\n",
       "      <td>65.000000</td>\n",
       "    </tr>\n",
       "    <tr>\n",
       "      <th>25%</th>\n",
       "      <td>78.500000</td>\n",
       "      <td>88.500000</td>\n",
       "      <td>83.500000</td>\n",
       "      <td>81.500000</td>\n",
       "      <td>74.000000</td>\n",
       "    </tr>\n",
       "    <tr>\n",
       "      <th>50%</th>\n",
       "      <td>87.000000</td>\n",
       "      <td>90.000000</td>\n",
       "      <td>90.000000</td>\n",
       "      <td>82.000000</td>\n",
       "      <td>83.000000</td>\n",
       "    </tr>\n",
       "    <tr>\n",
       "      <th>75%</th>\n",
       "      <td>91.500000</td>\n",
       "      <td>95.000000</td>\n",
       "      <td>92.000000</td>\n",
       "      <td>91.000000</td>\n",
       "      <td>84.000000</td>\n",
       "    </tr>\n",
       "    <tr>\n",
       "      <th>max</th>\n",
       "      <td>96.000000</td>\n",
       "      <td>100.000000</td>\n",
       "      <td>94.000000</td>\n",
       "      <td>100.000000</td>\n",
       "      <td>85.000000</td>\n",
       "    </tr>\n",
       "  </tbody>\n",
       "</table>\n",
       "</div>"
      ],
      "text/plain": [
       "           Wally         Eva        Sam       Katie        Bob\n",
       "count   3.000000    3.000000   3.000000    3.000000   3.000000\n",
       "mean   84.333333   92.333333  87.000000   87.666667  77.666667\n",
       "std    13.203535    6.806859   8.888194   10.692677  11.015141\n",
       "min    70.000000   87.000000  77.000000   81.000000  65.000000\n",
       "25%    78.500000   88.500000  83.500000   81.500000  74.000000\n",
       "50%    87.000000   90.000000  90.000000   82.000000  83.000000\n",
       "75%    91.500000   95.000000  92.000000   91.000000  84.000000\n",
       "max    96.000000  100.000000  94.000000  100.000000  85.000000"
      ]
     },
     "execution_count": 12,
     "metadata": {},
     "output_type": "execute_result"
    }
   ],
   "source": [
    "grades.describe()"
   ]
  },
  {
   "cell_type": "code",
   "execution_count": 13,
   "id": "8c4bf4f1-4a6f-49cb-b7c1-b7814d6c0573",
   "metadata": {},
   "outputs": [],
   "source": [
    "pd.set_option('display.precision', 2)"
   ]
  },
  {
   "cell_type": "code",
   "execution_count": 14,
   "id": "470350d9-cd6a-4243-b2c1-07a8f4cf7060",
   "metadata": {},
   "outputs": [
    {
     "data": {
      "text/html": [
       "<div>\n",
       "<style scoped>\n",
       "    .dataframe tbody tr th:only-of-type {\n",
       "        vertical-align: middle;\n",
       "    }\n",
       "\n",
       "    .dataframe tbody tr th {\n",
       "        vertical-align: top;\n",
       "    }\n",
       "\n",
       "    .dataframe thead th {\n",
       "        text-align: right;\n",
       "    }\n",
       "</style>\n",
       "<table border=\"1\" class=\"dataframe\">\n",
       "  <thead>\n",
       "    <tr style=\"text-align: right;\">\n",
       "      <th></th>\n",
       "      <th>Wally</th>\n",
       "      <th>Eva</th>\n",
       "      <th>Sam</th>\n",
       "      <th>Katie</th>\n",
       "      <th>Bob</th>\n",
       "    </tr>\n",
       "  </thead>\n",
       "  <tbody>\n",
       "    <tr>\n",
       "      <th>count</th>\n",
       "      <td>3.00</td>\n",
       "      <td>3.00</td>\n",
       "      <td>3.00</td>\n",
       "      <td>3.00</td>\n",
       "      <td>3.00</td>\n",
       "    </tr>\n",
       "    <tr>\n",
       "      <th>mean</th>\n",
       "      <td>84.33</td>\n",
       "      <td>92.33</td>\n",
       "      <td>87.00</td>\n",
       "      <td>87.67</td>\n",
       "      <td>77.67</td>\n",
       "    </tr>\n",
       "    <tr>\n",
       "      <th>std</th>\n",
       "      <td>13.20</td>\n",
       "      <td>6.81</td>\n",
       "      <td>8.89</td>\n",
       "      <td>10.69</td>\n",
       "      <td>11.02</td>\n",
       "    </tr>\n",
       "    <tr>\n",
       "      <th>min</th>\n",
       "      <td>70.00</td>\n",
       "      <td>87.00</td>\n",
       "      <td>77.00</td>\n",
       "      <td>81.00</td>\n",
       "      <td>65.00</td>\n",
       "    </tr>\n",
       "    <tr>\n",
       "      <th>25%</th>\n",
       "      <td>78.50</td>\n",
       "      <td>88.50</td>\n",
       "      <td>83.50</td>\n",
       "      <td>81.50</td>\n",
       "      <td>74.00</td>\n",
       "    </tr>\n",
       "    <tr>\n",
       "      <th>50%</th>\n",
       "      <td>87.00</td>\n",
       "      <td>90.00</td>\n",
       "      <td>90.00</td>\n",
       "      <td>82.00</td>\n",
       "      <td>83.00</td>\n",
       "    </tr>\n",
       "    <tr>\n",
       "      <th>75%</th>\n",
       "      <td>91.50</td>\n",
       "      <td>95.00</td>\n",
       "      <td>92.00</td>\n",
       "      <td>91.00</td>\n",
       "      <td>84.00</td>\n",
       "    </tr>\n",
       "    <tr>\n",
       "      <th>max</th>\n",
       "      <td>96.00</td>\n",
       "      <td>100.00</td>\n",
       "      <td>94.00</td>\n",
       "      <td>100.00</td>\n",
       "      <td>85.00</td>\n",
       "    </tr>\n",
       "  </tbody>\n",
       "</table>\n",
       "</div>"
      ],
      "text/plain": [
       "       Wally     Eva    Sam   Katie    Bob\n",
       "count   3.00    3.00   3.00    3.00   3.00\n",
       "mean   84.33   92.33  87.00   87.67  77.67\n",
       "std    13.20    6.81   8.89   10.69  11.02\n",
       "min    70.00   87.00  77.00   81.00  65.00\n",
       "25%    78.50   88.50  83.50   81.50  74.00\n",
       "50%    87.00   90.00  90.00   82.00  83.00\n",
       "75%    91.50   95.00  92.00   91.00  84.00\n",
       "max    96.00  100.00  94.00  100.00  85.00"
      ]
     },
     "execution_count": 14,
     "metadata": {},
     "output_type": "execute_result"
    }
   ],
   "source": [
    "grades.describe()"
   ]
  },
  {
   "cell_type": "code",
   "execution_count": 15,
   "id": "cca5021a-b4ed-4e75-a496-84395b1839f6",
   "metadata": {},
   "outputs": [
    {
     "data": {
      "text/plain": [
       "Wally    84.33\n",
       "Eva      92.33\n",
       "Sam      87.00\n",
       "Katie    87.67\n",
       "Bob      77.67\n",
       "dtype: float64"
      ]
     },
     "execution_count": 15,
     "metadata": {},
     "output_type": "execute_result"
    }
   ],
   "source": [
    "grades.mean()"
   ]
  },
  {
   "cell_type": "code",
   "execution_count": 17,
   "id": "bd762143-bfc4-42c1-9a87-31d27c7d8436",
   "metadata": {},
   "outputs": [
    {
     "data": {
      "text/html": [
       "<div>\n",
       "<style scoped>\n",
       "    .dataframe tbody tr th:only-of-type {\n",
       "        vertical-align: middle;\n",
       "    }\n",
       "\n",
       "    .dataframe tbody tr th {\n",
       "        vertical-align: top;\n",
       "    }\n",
       "\n",
       "    .dataframe thead th {\n",
       "        text-align: right;\n",
       "    }\n",
       "</style>\n",
       "<table border=\"1\" class=\"dataframe\">\n",
       "  <thead>\n",
       "    <tr style=\"text-align: right;\">\n",
       "      <th></th>\n",
       "      <th>Wally</th>\n",
       "      <th>Eva</th>\n",
       "      <th>Sam</th>\n",
       "      <th>Katie</th>\n",
       "      <th>Bob</th>\n",
       "    </tr>\n",
       "  </thead>\n",
       "  <tbody>\n",
       "    <tr>\n",
       "      <th>Test3</th>\n",
       "      <td>70</td>\n",
       "      <td>90</td>\n",
       "      <td>90</td>\n",
       "      <td>82</td>\n",
       "      <td>85</td>\n",
       "    </tr>\n",
       "    <tr>\n",
       "      <th>Test2</th>\n",
       "      <td>96</td>\n",
       "      <td>87</td>\n",
       "      <td>77</td>\n",
       "      <td>81</td>\n",
       "      <td>65</td>\n",
       "    </tr>\n",
       "    <tr>\n",
       "      <th>Test1</th>\n",
       "      <td>87</td>\n",
       "      <td>100</td>\n",
       "      <td>94</td>\n",
       "      <td>100</td>\n",
       "      <td>83</td>\n",
       "    </tr>\n",
       "  </tbody>\n",
       "</table>\n",
       "</div>"
      ],
      "text/plain": [
       "       Wally  Eva  Sam  Katie  Bob\n",
       "Test3     70   90   90     82   85\n",
       "Test2     96   87   77     81   65\n",
       "Test1     87  100   94    100   83"
      ]
     },
     "execution_count": 17,
     "metadata": {},
     "output_type": "execute_result"
    }
   ],
   "source": [
    "grades.sort_index(ascending=False)"
   ]
  },
  {
   "cell_type": "code",
   "execution_count": 18,
   "id": "95cc733c-b519-45e8-a506-266a2f69ea55",
   "metadata": {},
   "outputs": [
    {
     "data": {
      "text/html": [
       "<div>\n",
       "<style scoped>\n",
       "    .dataframe tbody tr th:only-of-type {\n",
       "        vertical-align: middle;\n",
       "    }\n",
       "\n",
       "    .dataframe tbody tr th {\n",
       "        vertical-align: top;\n",
       "    }\n",
       "\n",
       "    .dataframe thead th {\n",
       "        text-align: right;\n",
       "    }\n",
       "</style>\n",
       "<table border=\"1\" class=\"dataframe\">\n",
       "  <thead>\n",
       "    <tr style=\"text-align: right;\">\n",
       "      <th></th>\n",
       "      <th>Bob</th>\n",
       "      <th>Eva</th>\n",
       "      <th>Katie</th>\n",
       "      <th>Sam</th>\n",
       "      <th>Wally</th>\n",
       "    </tr>\n",
       "  </thead>\n",
       "  <tbody>\n",
       "    <tr>\n",
       "      <th>Test1</th>\n",
       "      <td>83</td>\n",
       "      <td>100</td>\n",
       "      <td>100</td>\n",
       "      <td>94</td>\n",
       "      <td>87</td>\n",
       "    </tr>\n",
       "    <tr>\n",
       "      <th>Test2</th>\n",
       "      <td>65</td>\n",
       "      <td>87</td>\n",
       "      <td>81</td>\n",
       "      <td>77</td>\n",
       "      <td>96</td>\n",
       "    </tr>\n",
       "    <tr>\n",
       "      <th>Test3</th>\n",
       "      <td>85</td>\n",
       "      <td>90</td>\n",
       "      <td>82</td>\n",
       "      <td>90</td>\n",
       "      <td>70</td>\n",
       "    </tr>\n",
       "  </tbody>\n",
       "</table>\n",
       "</div>"
      ],
      "text/plain": [
       "       Bob  Eva  Katie  Sam  Wally\n",
       "Test1   83  100    100   94     87\n",
       "Test2   65   87     81   77     96\n",
       "Test3   85   90     82   90     70"
      ]
     },
     "execution_count": 18,
     "metadata": {},
     "output_type": "execute_result"
    }
   ],
   "source": [
    "grades.sort_index(axis=1)"
   ]
  },
  {
   "cell_type": "code",
   "execution_count": null,
   "id": "acc8fea5-48fa-4a15-8dcf-7d81d1196d0e",
   "metadata": {},
   "outputs": [],
   "source": [
    "DeeDee Walker"
   ]
  }
 ],
 "metadata": {
  "kernelspec": {
   "display_name": "Python 3 (ipykernel)",
   "language": "python",
   "name": "python3"
  },
  "language_info": {
   "codemirror_mode": {
    "name": "ipython",
    "version": 3
   },
   "file_extension": ".py",
   "mimetype": "text/x-python",
   "name": "python",
   "nbconvert_exporter": "python",
   "pygments_lexer": "ipython3",
   "version": "3.9.12"
  }
 },
 "nbformat": 4,
 "nbformat_minor": 5
}
