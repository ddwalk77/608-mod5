{
 "cells": [
  {
   "cell_type": "markdown",
   "id": "1871718f-b91b-42e2-a381-2e7e00143f03",
   "metadata": {},
   "source": [
    "7.14.1 pandas Series DeeDee Walker"
   ]
  },
  {
   "cell_type": "code",
   "execution_count": 1,
   "id": "f3407b2c-e2c4-4d1f-a6e4-8b5d778ada4a",
   "metadata": {},
   "outputs": [],
   "source": [
    "import pandas as pd"
   ]
  },
  {
   "cell_type": "code",
   "execution_count": 2,
   "id": "373af45b-160b-4529-9a86-ef7d0b7e6713",
   "metadata": {},
   "outputs": [],
   "source": [
    "grades = pd.Series([87,100,94])"
   ]
  },
  {
   "cell_type": "code",
   "execution_count": 3,
   "id": "cf6b5226-205e-4ef3-9c3c-31ab1473b1af",
   "metadata": {},
   "outputs": [
    {
     "data": {
      "text/plain": [
       "0     87\n",
       "1    100\n",
       "2     94\n",
       "dtype: int64"
      ]
     },
     "execution_count": 3,
     "metadata": {},
     "output_type": "execute_result"
    }
   ],
   "source": [
    "grades"
   ]
  },
  {
   "cell_type": "code",
   "execution_count": 4,
   "id": "d4798b98-9c4c-464b-bc5d-b1191b1930a1",
   "metadata": {},
   "outputs": [
    {
     "data": {
      "text/plain": [
       "87"
      ]
     },
     "execution_count": 4,
     "metadata": {},
     "output_type": "execute_result"
    }
   ],
   "source": [
    "grades[0]"
   ]
  },
  {
   "cell_type": "code",
   "execution_count": 5,
   "id": "47528200-1f8b-40f5-8345-0acfa126e039",
   "metadata": {},
   "outputs": [
    {
     "data": {
      "text/plain": [
       "3"
      ]
     },
     "execution_count": 5,
     "metadata": {},
     "output_type": "execute_result"
    }
   ],
   "source": [
    "grades.count()"
   ]
  },
  {
   "cell_type": "code",
   "execution_count": 6,
   "id": "907e4f61-80dc-4105-b7b9-5c83025d9926",
   "metadata": {},
   "outputs": [
    {
     "data": {
      "text/plain": [
       "93.66666666666667"
      ]
     },
     "execution_count": 6,
     "metadata": {},
     "output_type": "execute_result"
    }
   ],
   "source": [
    "grades.mean()"
   ]
  },
  {
   "cell_type": "code",
   "execution_count": 7,
   "id": "ea36e0e3-ba27-460c-b690-6995e7b44d9b",
   "metadata": {},
   "outputs": [
    {
     "data": {
      "text/plain": [
       "87"
      ]
     },
     "execution_count": 7,
     "metadata": {},
     "output_type": "execute_result"
    }
   ],
   "source": [
    "grades.min()"
   ]
  },
  {
   "cell_type": "code",
   "execution_count": 8,
   "id": "5ba1b360-5955-4c38-9603-32b8c967cd29",
   "metadata": {},
   "outputs": [
    {
     "data": {
      "text/plain": [
       "100"
      ]
     },
     "execution_count": 8,
     "metadata": {},
     "output_type": "execute_result"
    }
   ],
   "source": [
    "grades.max()"
   ]
  },
  {
   "cell_type": "code",
   "execution_count": 9,
   "id": "21b44ab5-37d4-496d-abcb-f30812c7edb3",
   "metadata": {},
   "outputs": [
    {
     "data": {
      "text/plain": [
       "6.506407098647712"
      ]
     },
     "execution_count": 9,
     "metadata": {},
     "output_type": "execute_result"
    }
   ],
   "source": [
    "grades.std()"
   ]
  },
  {
   "cell_type": "code",
   "execution_count": 10,
   "id": "6d871b0c-00d9-4179-822e-90c68bf586eb",
   "metadata": {},
   "outputs": [
    {
     "data": {
      "text/plain": [
       "count      3.000000\n",
       "mean      93.666667\n",
       "std        6.506407\n",
       "min       87.000000\n",
       "25%       90.500000\n",
       "50%       94.000000\n",
       "75%       97.000000\n",
       "max      100.000000\n",
       "dtype: float64"
      ]
     },
     "execution_count": 10,
     "metadata": {},
     "output_type": "execute_result"
    }
   ],
   "source": [
    "grades.describe()"
   ]
  },
  {
   "cell_type": "code",
   "execution_count": 11,
   "id": "910e6a42-d18d-4742-8a51-f5aad9e6ed9d",
   "metadata": {},
   "outputs": [],
   "source": [
    "grades = pd.Series({'Wally':87,'Eva':100,'Sam':94})"
   ]
  },
  {
   "cell_type": "code",
   "execution_count": 12,
   "id": "18de9efe-724d-41a0-904e-2c9556da20d5",
   "metadata": {},
   "outputs": [
    {
     "data": {
      "text/plain": [
       "Wally     87\n",
       "Eva      100\n",
       "Sam       94\n",
       "dtype: int64"
      ]
     },
     "execution_count": 12,
     "metadata": {},
     "output_type": "execute_result"
    }
   ],
   "source": [
    "grades"
   ]
  },
  {
   "cell_type": "code",
   "execution_count": 14,
   "id": "c378a8af-4db0-4379-bdf1-6ad529159dbb",
   "metadata": {},
   "outputs": [
    {
     "data": {
      "text/plain": [
       "100"
      ]
     },
     "execution_count": 14,
     "metadata": {},
     "output_type": "execute_result"
    }
   ],
   "source": [
    "grades['Eva']"
   ]
  },
  {
   "cell_type": "code",
   "execution_count": 15,
   "id": "0ad149c6-34b5-48e7-b9cb-30b839d453f8",
   "metadata": {},
   "outputs": [
    {
     "data": {
      "text/plain": [
       "87"
      ]
     },
     "execution_count": 15,
     "metadata": {},
     "output_type": "execute_result"
    }
   ],
   "source": [
    "grades.Wally"
   ]
  },
  {
   "cell_type": "code",
   "execution_count": 17,
   "id": "1c247d9a-8fbf-4d2d-8c83-a8d7c44925da",
   "metadata": {},
   "outputs": [
    {
     "data": {
      "text/plain": [
       "array([ 87, 100,  94], dtype=int64)"
      ]
     },
     "execution_count": 17,
     "metadata": {},
     "output_type": "execute_result"
    }
   ],
   "source": [
    "grades.values"
   ]
  },
  {
   "cell_type": "markdown",
   "id": "2bc62d55-4b94-4b6f-9bad-6ae22824cbb1",
   "metadata": {},
   "source": [
    "DeeDee Walker"
   ]
  }
 ],
 "metadata": {
  "kernelspec": {
   "display_name": "Python 3 (ipykernel)",
   "language": "python",
   "name": "python3"
  },
  "language_info": {
   "codemirror_mode": {
    "name": "ipython",
    "version": 3
   },
   "file_extension": ".py",
   "mimetype": "text/x-python",
   "name": "python",
   "nbconvert_exporter": "python",
   "pygments_lexer": "ipython3",
   "version": "3.9.12"
  }
 },
 "nbformat": 4,
 "nbformat_minor": 5
}
