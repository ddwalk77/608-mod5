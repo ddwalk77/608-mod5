{
 "cells": [
  {
   "cell_type": "markdown",
   "id": "de845985-87a2-4b01-ad99-e9d2dc713a8a",
   "metadata": {},
   "source": [
    "#### Bonus - 8.13 DeeDee Walker"
   ]
  },
  {
   "cell_type": "code",
   "execution_count": 1,
   "id": "c9273a98-f7e9-4a33-b1b1-62df59ac769f",
   "metadata": {},
   "outputs": [],
   "source": [
    "import pandas as pd"
   ]
  },
  {
   "cell_type": "code",
   "execution_count": 2,
   "id": "438b4114-0d8f-4987-8573-db53bfebf4d0",
   "metadata": {},
   "outputs": [],
   "source": [
    "import re"
   ]
  },
  {
   "cell_type": "code",
   "execution_count": 3,
   "id": "4eaae58d-e49d-4437-bafe-92a994689de0",
   "metadata": {},
   "outputs": [],
   "source": [
    "zips = pd.Series({'New Orleans': '70117', 'Liberty':'64068', 'Friday Harbor': '98250'})"
   ]
  },
  {
   "cell_type": "code",
   "execution_count": 4,
   "id": "8f84e6c6-37b8-48a3-aafd-5aaaec748d72",
   "metadata": {},
   "outputs": [
    {
     "data": {
      "text/plain": [
       "New Orleans      True\n",
       "Liberty          True\n",
       "Friday Harbor    True\n",
       "dtype: bool"
      ]
     },
     "execution_count": 4,
     "metadata": {},
     "output_type": "execute_result"
    }
   ],
   "source": [
    "zips.str.match(r'\\d{5}')"
   ]
  },
  {
   "cell_type": "markdown",
   "id": "14b4b1e2-0fb9-4c7f-b7a5-e34538a76fab",
   "metadata": {},
   "source": [
    "#### Bonus - 8.13 DeeDee Walker"
   ]
  },
  {
   "cell_type": "code",
   "execution_count": 12,
   "id": "3bc3569d-3c67-47f2-940c-1abfa76655bd",
   "metadata": {},
   "outputs": [],
   "source": [
    "cities = pd.Series(['New Orleans, LA 70117', 'Liberty, MO 64068', 'Friday Harbor, WA 98250'])"
   ]
  },
  {
   "cell_type": "code",
   "execution_count": 13,
   "id": "e2aaa30e-2ac1-4a95-9e00-d7d85859af2a",
   "metadata": {},
   "outputs": [
    {
     "data": {
      "text/plain": [
       "0    False\n",
       "1    False\n",
       "2    False\n",
       "dtype: bool"
      ]
     },
     "execution_count": 13,
     "metadata": {},
     "output_type": "execute_result"
    }
   ],
   "source": [
    "cities.str.contains(f'[A-Z]{2}') #not sure why this not returning True on at least indices 1"
   ]
  },
  {
   "cell_type": "code",
   "execution_count": 14,
   "id": "4bce692c-14c5-48f9-8647-aa741c837f13",
   "metadata": {},
   "outputs": [
    {
     "data": {
      "text/plain": [
       "0    False\n",
       "1    False\n",
       "2    False\n",
       "dtype: bool"
      ]
     },
     "execution_count": 14,
     "metadata": {},
     "output_type": "execute_result"
    }
   ],
   "source": [
    "cities.str.match(f'[A-Z]{2}')"
   ]
  },
  {
   "cell_type": "markdown",
   "id": "628d3598-1b02-4dcc-a253-ff3fac365d2b",
   "metadata": {},
   "source": [
    "#### Bonus - 8.13 DeeDee Walker"
   ]
  },
  {
   "cell_type": "code",
   "execution_count": 15,
   "id": "f37230db-3509-41bd-bbce-d895cc904d80",
   "metadata": {},
   "outputs": [],
   "source": [
    "contacts = [['DeeDee Walker', 'ddwalk_77@gmail.com', '7775192683'],\n",
    "            ['Rusty Nelson', 'rust_59@walker.com', '8167773444'],\n",
    "            ['Phoenix Ricardo', 'pbird@lejeune.com', '5046937777']]"
   ]
  },
  {
   "cell_type": "code",
   "execution_count": 16,
   "id": "f5913aa6-5d9c-42dd-9cfe-60ab8c6c5bf5",
   "metadata": {},
   "outputs": [],
   "source": [
    "contactsdf = pd.DataFrame(contacts, columns=['Name', 'Email', 'Phone'])"
   ]
  },
  {
   "cell_type": "code",
   "execution_count": 17,
   "id": "85182922-4be5-407b-8998-5bbdd68d706f",
   "metadata": {},
   "outputs": [],
   "source": [
    "def get_formatted_phone(value):\n",
    "    result = re.fullmatch(r'(\\d{3})(\\d{3})(\\d{4})', value)\n",
    "    return '-'.join(result.groups()) if result else value"
   ]
  },
  {
   "cell_type": "code",
   "execution_count": 18,
   "id": "c7cd216b-07bd-4359-9215-7942f5a2b73e",
   "metadata": {},
   "outputs": [],
   "source": [
    "formatted_phone = contactsdf['Phone'].map(get_formatted_phone)"
   ]
  },
  {
   "cell_type": "code",
   "execution_count": 19,
   "id": "d66b053b-1c2d-401b-8059-2f1cb8dc7d86",
   "metadata": {},
   "outputs": [],
   "source": [
    "contactsdf['Phone'] = formatted_phone"
   ]
  },
  {
   "cell_type": "code",
   "execution_count": 20,
   "id": "6fdd5ece-284c-4d44-8526-001a6faf7576",
   "metadata": {},
   "outputs": [
    {
     "data": {
      "text/html": [
       "<div>\n",
       "<style scoped>\n",
       "    .dataframe tbody tr th:only-of-type {\n",
       "        vertical-align: middle;\n",
       "    }\n",
       "\n",
       "    .dataframe tbody tr th {\n",
       "        vertical-align: top;\n",
       "    }\n",
       "\n",
       "    .dataframe thead th {\n",
       "        text-align: right;\n",
       "    }\n",
       "</style>\n",
       "<table border=\"1\" class=\"dataframe\">\n",
       "  <thead>\n",
       "    <tr style=\"text-align: right;\">\n",
       "      <th></th>\n",
       "      <th>Name</th>\n",
       "      <th>Email</th>\n",
       "      <th>Phone</th>\n",
       "    </tr>\n",
       "  </thead>\n",
       "  <tbody>\n",
       "    <tr>\n",
       "      <th>0</th>\n",
       "      <td>DeeDee Walker</td>\n",
       "      <td>ddwalk_77@gmail.com</td>\n",
       "      <td>777-519-2683</td>\n",
       "    </tr>\n",
       "    <tr>\n",
       "      <th>1</th>\n",
       "      <td>Rusty Nelson</td>\n",
       "      <td>rust_59@walker.com</td>\n",
       "      <td>816-777-3444</td>\n",
       "    </tr>\n",
       "    <tr>\n",
       "      <th>2</th>\n",
       "      <td>Phoenix Ricardo</td>\n",
       "      <td>pbird@lejeune.com</td>\n",
       "      <td>504-693-7777</td>\n",
       "    </tr>\n",
       "  </tbody>\n",
       "</table>\n",
       "</div>"
      ],
      "text/plain": [
       "              Name                Email         Phone\n",
       "0    DeeDee Walker  ddwalk_77@gmail.com  777-519-2683\n",
       "1     Rusty Nelson   rust_59@walker.com  816-777-3444\n",
       "2  Phoenix Ricardo    pbird@lejeune.com  504-693-7777"
      ]
     },
     "execution_count": 20,
     "metadata": {},
     "output_type": "execute_result"
    }
   ],
   "source": [
    "contactsdf"
   ]
  },
  {
   "cell_type": "markdown",
   "id": "0fa0dc5f-042c-451d-b86a-c5158ac30b4d",
   "metadata": {},
   "source": [
    "#### SelfCheck 8.13 - DeeDee Walker"
   ]
  },
  {
   "cell_type": "code",
   "execution_count": 21,
   "id": "b3797f4e-6c59-41ed-8f5b-8ef9e6ebdcfd",
   "metadata": {},
   "outputs": [],
   "source": [
    "import pandas as pd"
   ]
  },
  {
   "cell_type": "code",
   "execution_count": 22,
   "id": "92230f07-c72d-4b94-8995-1f3005e4c5c6",
   "metadata": {},
   "outputs": [],
   "source": [
    "import re"
   ]
  },
  {
   "cell_type": "code",
   "execution_count": 23,
   "id": "7186154d-3a6f-4c8a-b9cc-94689268d2bb",
   "metadata": {},
   "outputs": [],
   "source": [
    "contacts2 = [['DeeDee Walker', 'ddwalk_77@gmail.com', '7775192683'],\n",
    "            ['Rusty Nelson', 'rust_59@walker.com', '8167773444'],\n",
    "            ['Phoenix Ricardo', 'pbird@lejeune.com', '5046937777']]"
   ]
  },
  {
   "cell_type": "code",
   "execution_count": 24,
   "id": "cc880bc1-833b-46d8-a496-4b1c8501b52f",
   "metadata": {},
   "outputs": [],
   "source": [
    "contacts2df = pd.DataFrame(contacts2, columns=['Name', 'Email', 'Phone'])"
   ]
  },
  {
   "cell_type": "code",
   "execution_count": 25,
   "id": "57d150aa-fbc4-4e6d-b97b-da0784de4a1e",
   "metadata": {},
   "outputs": [],
   "source": [
    "def get_formatted_phone_updated(value):\n",
    "    result = re.fullmatch(r'(\\d{3})(\\d{3})(\\d{4})', value)\n",
    "    if result:\n",
    "        part1, part2, part3 = result.groups()\n",
    "        return '(' + part1 + ') ' + part2 + '-' + part3\n",
    "    else:       \n",
    "        return value"
   ]
  },
  {
   "cell_type": "code",
   "execution_count": 26,
   "id": "e486e103-c070-4f39-88ce-385e3f52f440",
   "metadata": {},
   "outputs": [],
   "source": [
    "formatted_phone2 = contacts2df['Phone'].map(get_formatted_phone_updated)"
   ]
  },
  {
   "cell_type": "code",
   "execution_count": 27,
   "id": "cdda84fd-9959-42bd-ac46-02ef0c1cbcfe",
   "metadata": {},
   "outputs": [],
   "source": [
    "contacts2df['Phone'] = formatted_phone2"
   ]
  },
  {
   "cell_type": "code",
   "execution_count": 28,
   "id": "e83dd9a6-fa57-4549-8cc4-8cf413da04f5",
   "metadata": {},
   "outputs": [
    {
     "data": {
      "text/html": [
       "<div>\n",
       "<style scoped>\n",
       "    .dataframe tbody tr th:only-of-type {\n",
       "        vertical-align: middle;\n",
       "    }\n",
       "\n",
       "    .dataframe tbody tr th {\n",
       "        vertical-align: top;\n",
       "    }\n",
       "\n",
       "    .dataframe thead th {\n",
       "        text-align: right;\n",
       "    }\n",
       "</style>\n",
       "<table border=\"1\" class=\"dataframe\">\n",
       "  <thead>\n",
       "    <tr style=\"text-align: right;\">\n",
       "      <th></th>\n",
       "      <th>Name</th>\n",
       "      <th>Email</th>\n",
       "      <th>Phone</th>\n",
       "    </tr>\n",
       "  </thead>\n",
       "  <tbody>\n",
       "    <tr>\n",
       "      <th>0</th>\n",
       "      <td>DeeDee Walker</td>\n",
       "      <td>ddwalk_77@gmail.com</td>\n",
       "      <td>(777) 519-2683</td>\n",
       "    </tr>\n",
       "    <tr>\n",
       "      <th>1</th>\n",
       "      <td>Rusty Nelson</td>\n",
       "      <td>rust_59@walker.com</td>\n",
       "      <td>(816) 777-3444</td>\n",
       "    </tr>\n",
       "    <tr>\n",
       "      <th>2</th>\n",
       "      <td>Phoenix Ricardo</td>\n",
       "      <td>pbird@lejeune.com</td>\n",
       "      <td>(504) 693-7777</td>\n",
       "    </tr>\n",
       "  </tbody>\n",
       "</table>\n",
       "</div>"
      ],
      "text/plain": [
       "              Name                Email           Phone\n",
       "0    DeeDee Walker  ddwalk_77@gmail.com  (777) 519-2683\n",
       "1     Rusty Nelson   rust_59@walker.com  (816) 777-3444\n",
       "2  Phoenix Ricardo    pbird@lejeune.com  (504) 693-7777"
      ]
     },
     "execution_count": 28,
     "metadata": {},
     "output_type": "execute_result"
    }
   ],
   "source": [
    "contacts2df"
   ]
  }
 ],
 "metadata": {
  "kernelspec": {
   "display_name": "Python 3 (ipykernel)",
   "language": "python",
   "name": "python3"
  },
  "language_info": {
   "codemirror_mode": {
    "name": "ipython",
    "version": 3
   },
   "file_extension": ".py",
   "mimetype": "text/x-python",
   "name": "python",
   "nbconvert_exporter": "python",
   "pygments_lexer": "ipython3",
   "version": "3.9.12"
  }
 },
 "nbformat": 4,
 "nbformat_minor": 5
}
